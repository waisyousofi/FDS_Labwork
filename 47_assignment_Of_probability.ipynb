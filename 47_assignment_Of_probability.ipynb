{
 "cells": [
  {
   "cell_type": "markdown",
   "metadata": {
    "id": "yD-rwOK3O7gS"
   },
   "source": [
    "\n",
    "## Q. 1. Two dice are rolled, find the probability that the sum is:\n",
    "- equal to 1\n",
    "- equal to 4\n",
    "- less than 13\n"
   ]
  },
  {
   "cell_type": "code",
   "execution_count": 21,
   "metadata": {
    "colab": {
     "base_uri": "https://localhost:8080/"
    },
    "id": "6viENoobOx9c",
    "outputId": "a5baf42f-fdbf-40b6-9bc6-def9e0b7d000"
   },
   "outputs": [
    {
     "name": "stdout",
     "output_type": "stream",
     "text": [
      "When two fair dice are rolled:\n",
      "n(s): 36\n",
      "a:Probability that the sum is equal to 1:\n",
      "n(a): 0\n",
      "probabilty is: 0.0\n",
      "a:Probability that the sum is equal to 4:\n",
      "n(b): 3\n",
      "probabilty is: 0.08333333333333333\n",
      "a:Probability that the sum is les than 13:\n",
      "n(c): 36\n",
      "probabilty is: 1.0\n"
     ]
    }
   ],
   "source": [
    "print(\"When two fair dice are rolled:\")\n",
    "s=36\n",
    "print(\"n(s):\",s)\n",
    "\n",
    "print(\"a:Probability that the sum is equal to 1:\")\n",
    "a=0\n",
    "print(\"n(a):\",a)\n",
    "p1=a/s\n",
    "print(\"probabilty is:\",p1)\n",
    "\n",
    "print(\"a:Probability that the sum is equal to 4:\")\n",
    "b=3\n",
    "print(\"n(b):\",b)\n",
    "p2=b/s\n",
    "print(\"probabilty is:\",p2)\n",
    "\n",
    "print(\"a:Probability that the sum is les than 13:\")\n",
    "c=36\n",
    "print(\"n(c):\",c)\n",
    "p3=c/s\n",
    "print(\"probabilty is:\",p3)\n"
   ]
  },
  {
   "cell_type": "markdown",
   "metadata": {},
   "source": [
    "## Q. 2.  In the game of snakes and ladders, a fair die is thrown. If event E1 represents all the events of getting a natural number less than 4, event E2 consists of all the events of getting an even number and E3 denotes all the events of getting an odd number. List the sets representing the following:\n",
    "- E1 or E2 or E3\n",
    "- E1 and E2 and E3\n",
    "- E1 but not E3"
   ]
  },
  {
   "cell_type": "code",
   "execution_count": 22,
   "metadata": {},
   "outputs": [
    {
     "name": "stdout",
     "output_type": "stream",
     "text": [
      "Sample space is: [1, 2, 3, 4, 5, 6]\n",
      " E1 represents all the events of getting a natural number less than 4.\n",
      "E1: [1, 2, 3]\n",
      "E2 consists of all the events of getting an even number.\n",
      "E2: [2, 4, 6]\n",
      "E3 consists of all the events of getting an odd number.\n",
      "E3: [1, 3, 5]\n",
      "E1orE2orE3: [1, 2, 3, 4, 5, 6]\n",
      "E1andE2andE3: []\n",
      "E1 but not E3: [2]\n"
     ]
    }
   ],
   "source": [
    "s=[]\n",
    "def sample(n):\n",
    "    for i in range(1,n+1):\n",
    "        s.append(i)\n",
    "sample(6)\n",
    "print(\"Sample space is:\",s)\n",
    "\n",
    "print(\" E1 represents all the events of getting a natural number less than 4.\")\n",
    "E1=[]\n",
    "for i in s:\n",
    "    if(i<4):\n",
    "        E1.append(i)\n",
    "print(\"E1:\",E1)\n",
    "\n",
    "print(\"E2 consists of all the events of getting an even number.\")\n",
    "E2=[]\n",
    "for i in s:\n",
    "    if(i%2==0):\n",
    "        E2.append(i)\n",
    "print(\"E2:\",E2)\n",
    "\n",
    "print(\"E3 consists of all the events of getting an odd number.\")\n",
    "E3=[]\n",
    "for i in s:\n",
    "    if(i%2!=0):\n",
    "        E3.append(i)\n",
    "print(\"E3:\",E3)\n",
    "\n",
    "\n",
    "a=[]\n",
    "for i in s:\n",
    "    if(E1 or E2 or E3):\n",
    "        a.append(i)\n",
    "print(\"E1orE2orE3:\",a)        \n",
    "\n",
    "\n",
    "b=[]\n",
    "for i in s:\n",
    "    if(E1 in E2 in E3):\n",
    "        b.append(i)\n",
    "print(\"E1andE2andE3:\",b)        \n",
    " \n",
    "c=[]\n",
    "for i in E1:\n",
    "    if(i not in E3):\n",
    "        c.append(i)\n",
    "print(\"E1 but not E3:\",c)  \n"
   ]
  },
  {
   "cell_type": "markdown",
   "metadata": {},
   "source": [
    "## Q.3 How many permutations of the letters of the word ARTICLE  have consonants in the first and last positions?"
   ]
  },
  {
   "cell_type": "code",
   "execution_count": 23,
   "metadata": {
    "colab": {
     "base_uri": "https://localhost:8080/"
    },
    "id": "v2gu-8U6PbpU",
    "outputId": "87fb98f5-fd93-4695-a641-e6525b144050"
   },
   "outputs": [
    {
     "name": "stdout",
     "output_type": "stream",
     "text": [
      "Total Number of Vowels in string= 3\n",
      "Total Number of Consonants in string= 4\n",
      "Total Permutations are: 1440.0\n"
     ]
    }
   ],
   "source": [
    "import math\n",
    "\n",
    "def permutate(n,r):\n",
    "    f1=math.factorial(n)\n",
    "    f2=math.factorial(n-r)\n",
    "    c=f1/f2\n",
    "    return c\n",
    "\n",
    "string=\"ARTICLE\"\n",
    "s=len(string)\n",
    "vowels=0\n",
    "consonants=0\n",
    "string=string.lower()\n",
    "\n",
    "for i in string:\n",
    "    if(i=='a' or i=='e' or i=='i' or i=='o' or i=='u'):\n",
    "        vowels=vowels+1\n",
    "    else:\n",
    "        consonants=consonants+1\n",
    "        \n",
    "print(\"Total Number of Vowels in string=\",vowels)\n",
    "print(\"Total Number of Consonants in string=\",consonants)\n",
    "\n",
    "start=permutate(consonants, 1)\n",
    "consonants-=1\n",
    "\n",
    "end=permutate(consonants, 1)\n",
    "consonants-=1\n",
    "\n",
    "c=consonants+vowels\n",
    "r=c\n",
    "a=1\n",
    "\n",
    "for i in range(r):\n",
    "    a=a*permutate(c, 1)\n",
    "    c=c-1\n",
    "    \n",
    "rest1=a*start*end\n",
    "print(\"Total Permutations are:\",rest1)\n"
   ]
  },
  {
   "cell_type": "markdown",
   "metadata": {
    "id": "nB7mRKAUj6zM"
   },
   "source": [
    "## Q. 4. Give five letters {A,B,C,D,E}. Find the following:\n",
    "- The number of four-letter word sequences.\n",
    "- The number of three-letter word sequences.\n",
    "- The number of two-letter word sequences.\n"
   ]
  },
  {
   "cell_type": "code",
   "execution_count": 24,
   "metadata": {
    "id": "HsJ19jIej6h8"
   },
   "outputs": [
    {
     "name": "stdout",
     "output_type": "stream",
     "text": [
      "Given, ss: ['A', 'B', 'C', 'D', 'E']\n",
      "The Number of four letter word sequence is: 120.0\n",
      "The Number of three letter word sequence is: 60.0\n",
      "The Number of two letter word sequence is: 20.0\n"
     ]
    }
   ],
   "source": [
    "ss=['A','B','C','D','E']\n",
    "print(\"Given, ss:\",ss) \n",
    "      \n",
    "print(\"The Number of four letter word sequence is:\",permutate(5, 4))\n",
    "      \n",
    "print(\"The Number of three letter word sequence is:\",permutate(5, 3))\n",
    "\n",
    "print(\"The Number of two letter word sequence is:\",permutate(5, 2))\n"
   ]
  },
  {
   "cell_type": "markdown",
   "metadata": {
    "id": "wf2mXcDdPhi2"
   },
   "source": [
    "## Q. 5. In how many different ways can 4 people be seated in a straight line if two of them insist on sitting next to each other. "
   ]
  },
  {
   "cell_type": "code",
   "execution_count": 57,
   "metadata": {},
   "outputs": [
    {
     "name": "stdout",
     "output_type": "stream",
     "text": [
      "('P1', 'P2', 'P3', 'P4')\n",
      "('P1', 'P2', 'P4', 'P3')\n",
      "('P1', 'P3', 'P2', 'P4')\n",
      "('P1', 'P3', 'P4', 'P2')\n",
      "('P1', 'P4', 'P2', 'P3')\n",
      "('P1', 'P4', 'P3', 'P2')\n",
      "('P2', 'P1', 'P3', 'P4')\n",
      "('P2', 'P1', 'P4', 'P3')\n",
      "('P2', 'P3', 'P1', 'P4')\n",
      "('P2', 'P3', 'P4', 'P1')\n",
      "('P2', 'P4', 'P1', 'P3')\n",
      "('P2', 'P4', 'P3', 'P1')\n",
      "('P3', 'P1', 'P2', 'P4')\n",
      "('P3', 'P1', 'P4', 'P2')\n",
      "('P3', 'P2', 'P1', 'P4')\n",
      "('P3', 'P2', 'P4', 'P1')\n",
      "('P3', 'P4', 'P1', 'P2')\n",
      "('P3', 'P4', 'P2', 'P1')\n",
      "('P4', 'P1', 'P2', 'P3')\n",
      "('P4', 'P1', 'P3', 'P2')\n",
      "('P4', 'P2', 'P1', 'P3')\n",
      "('P4', 'P2', 'P3', 'P1')\n",
      "('P4', 'P3', 'P1', 'P2')\n",
      "('P4', 'P3', 'P2', 'P1')\n"
     ]
    }
   ],
   "source": [
    "list_=[\"P1\",\"P2\",\"P3\",\"P4\"]\n",
    "a=itertools.permutations(list_)\n",
    "for i in a:\n",
    "    b=i\n",
    "    print(i)        "
   ]
  },
  {
   "cell_type": "markdown",
   "metadata": {},
   "source": [
    "## Q. 6. You have 4 math books and 5 history books to put on a shelf that has 5 slots. In how many ways can the books be shelved if the first three slots are filled with math books and the next two slots are filled with history books?"
   ]
  },
  {
   "cell_type": "code",
   "execution_count": 17,
   "metadata": {},
   "outputs": [
    {
     "name": "stdout",
     "output_type": "stream",
     "text": [
      "480.0\n"
     ]
    }
   ],
   "source": [
    "import math\n",
    "def permutate(n,r):\n",
    "    f1=math.factorial(n)\n",
    "    f3=math.factorial(n-r)\n",
    "    c=f1/f3\n",
    "    return c\n",
    "var=permutate(4,3)\n",
    "var2=permutate(5,2)\n",
    "print(var*var2)"
   ]
  },
  {
   "cell_type": "markdown",
   "metadata": {},
   "source": [
    "## Q. 7. The shopping mall has a straight row of 5 flagpoles at its main entrance plaza. It has 3 identical green flags and 2 identical yellow flags. How many distinct arrangements of flags on the flagpoles are possible?"
   ]
  },
  {
   "cell_type": "code",
   "execution_count": 20,
   "metadata": {},
   "outputs": [
    {
     "name": "stdout",
     "output_type": "stream",
     "text": [
      "10.0\n"
     ]
    }
   ],
   "source": [
    "def permutate(n,r,o):\n",
    "    f1=math.factorial(n)\n",
    "    f2=math.factorial(r)\n",
    "    f3=math.factorial(o)\n",
    "    c=f1/(f2*f3)\n",
    "    return c\n",
    "var=permutate(5,3,2)\n",
    "print(var)"
   ]
  },
  {
   "cell_type": "markdown",
   "metadata": {},
   "source": [
    "##  Q.8.A Birthday Problem (Collision of Birth Days)\n",
    "- \"If there are ‘n’ people in a room, what is the chance that some pair among them have the same birthday?\"\n"
   ]
  },
  {
   "cell_type": "code",
   "execution_count": 3,
   "metadata": {},
   "outputs": [
    {
     "name": "stdout",
     "output_type": "stream",
     "text": [
      "Enter The number of peoples in room:10\n",
      "Estimated P(ALOC) after 10000 trials: 0.1227\n"
     ]
    }
   ],
   "source": [
    "from random import randint\n",
    " \n",
    " \n",
    "NUM_PEOPLE = int(input(\"Enter The number of peoples in room:\"))\n",
    "NUM_POSSIBLE_BIRTHDAYS = 365\n",
    "NUM_TRIALS = 10000\n",
    " \n",
    " \n",
    "def generate_random_birthday():\n",
    "    birthday = randint(1, NUM_POSSIBLE_BIRTHDAYS)\n",
    "    return birthday\n",
    " \n",
    " \n",
    "def generate_k_birthdays(k):\n",
    "    birthdays = [generate_random_birthday() for _ in range(k)]\n",
    "    return birthdays\n",
    " \n",
    " \n",
    "def aloc(birthdays):\n",
    "    unique_birthdays = set(birthdays)\n",
    " \n",
    "    num_birthdays = len(birthdays)\n",
    "    num_unique_birthdays = len(unique_birthdays)\n",
    "    has_coincidence = (num_birthdays != num_unique_birthdays)\n",
    " \n",
    "    return has_coincidence\n",
    " \n",
    " \n",
    "def estimate_p_aloc():\n",
    "    num_aloc = 0\n",
    "    for _ in range(NUM_TRIALS):\n",
    "        birthdays = generate_k_birthdays(NUM_PEOPLE)\n",
    "        has_coincidence = aloc(birthdays)\n",
    "        if has_coincidence:\n",
    "            num_aloc += 1\n",
    " \n",
    "    p_aloc = num_aloc / NUM_TRIALS\n",
    "    return p_aloc\n",
    " \n",
    " \n",
    "p_aloc = estimate_p_aloc()\n",
    "print(f\"Estimated P(ALOC) after {NUM_TRIALS} trials: {p_aloc}\")"
   ]
  },
  {
   "cell_type": "markdown",
   "metadata": {},
   "source": [
    "## Q. 9. You have a fair, well-shuffled deck of 52 cards. It consists of four suits. The suits are clubs, diamonds, hearts and spaces. There are 13 cards in each suit consisting of 1, 2, 3, 4, 5, 6, 7, 8, 9, J(Jack), Q(Queen), H(king) of that suit.\n",
    "- Three cards are picked at random\n",
    "- Suppose you know that the picked cards are Q of spades, K of hearts and Q of spades. Can you decide if the sampling was with or without replacement?\n",
    "- Suppose  you know that the picked cards are Q of spades, K of hearts and J of spades. Can you decide if the sampling was with or without replacement?\n"
   ]
  },
  {
   "cell_type": "markdown",
   "metadata": {},
   "source": [
    "### Answer:-\n",
    "- Sampling was with the replacement when we pitch card Q of spaces,K of hearts and  Q of spaces because is each siuts we had one queen only heart we are picking 2 green from spades which is not possible in without replacement.\n"
   ]
  },
  {
   "cell_type": "markdown",
   "metadata": {},
   "source": [
    "- In this card we have Q of spades K of hearts and J of spades.Here the sampling was done in without replacement because we are picking two different cards from single suits and it can be possible in both the sampling also."
   ]
  },
  {
   "cell_type": "markdown",
   "metadata": {},
   "source": [
    "## Q. 10. You have a fair, well-shuffled deck of 52 cards. It consists of four suits. The suits are clubs, diamonds, hearts and spaces. There are 13 cards in each suit consisting of 1, 2, 3, 4, 5, 6, 7, 8, 9, J(Jack), Q(Queen), H(king) of that suit. S=spades, H=Hearts, D=Diamonds, C=Clubs, suppose that you sample four cards without replacement. Which of the following outcomes are possible? \n",
    "- Answer the following questions for sampling with replacement.\n",
    "- QS, ID, 1C, QD\n",
    "- KH, 7D, 6D, KH\n",
    "- QS, 7D, 6D, KS\n"
   ]
  },
  {
   "cell_type": "markdown",
   "metadata": {},
   "source": [
    "### Answer:-\n",
    "- Sampling with replacement\n",
    "- n(5)=52\n",
    "##### A)Q5,1D,1C,QD\n",
    "- Q5: Queen for spade :Possible\n",
    "- 1D:Impossible\n",
    "- 1C:1 from clubs:Possible\n",
    "- QD:Queen from diaminds:Possible\n"
   ]
  },
  {
   "cell_type": "markdown",
   "metadata": {},
   "source": [
    "##### B) KH,7D,6D,KH\n",
    "- KH:Possible\n",
    "- 7D:Possible\n",
    "- 6D:Possible\n",
    "- KH:Possible"
   ]
  },
  {
   "cell_type": "markdown",
   "metadata": {},
   "source": [
    "#### C) Q5,7D,6D,KS\n",
    "- QS:Possible\n",
    "- 7D:Possible\n",
    "- 6D:Possible\n",
    "- KS:Possible"
   ]
  },
  {
   "cell_type": "code",
   "execution_count": null,
   "metadata": {},
   "outputs": [],
   "source": []
  }
 ],
 "metadata": {
  "colab": {
   "collapsed_sections": [],
   "name": "Assignment _on_probability.ipynb",
   "provenance": []
  },
  "kernelspec": {
   "display_name": "Python 3",
   "language": "python",
   "name": "python3"
  },
  "language_info": {
   "codemirror_mode": {
    "name": "ipython",
    "version": 3
   },
   "file_extension": ".py",
   "mimetype": "text/x-python",
   "name": "python",
   "nbconvert_exporter": "python",
   "pygments_lexer": "ipython3",
   "version": "3.8.5"
  }
 },
 "nbformat": 4,
 "nbformat_minor": 1
}
