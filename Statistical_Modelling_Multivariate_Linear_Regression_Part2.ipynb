{
  "nbformat": 4,
  "nbformat_minor": 0,
  "metadata": {
    "colab": {
      "name": "Statistical_Modelling_Multivariate_Linear_Regression_Part2",
      "provenance": [],
      "collapsed_sections": [
        "DsGI9nzaGdBv",
        "__MH-8Yg-Aie",
        "xqbXIlFH-Aip",
        "zJDON9Le-Aiv",
        "_t6m-wYe-Aiy",
        "ZWC5rzfY-Ai0"
      ]
    },
    "kernelspec": {
      "name": "python3",
      "display_name": "Python 3"
    }
  },
  "cells": [
    {
      "cell_type": "markdown",
      "metadata": {
        "id": "qYzGhyqrye2z"
      },
      "source": [
        "#code#4 "
      ]
    },
    {
      "cell_type": "markdown",
      "metadata": {
        "id": "BnFeu9RfhAGf"
      },
      "source": [
        "Multiple regression is like linear regression, but with more than one independent value, meaning that we try to predict a value based on two or more variables.\n",
        "\n"
      ]
    },
    {
      "cell_type": "code",
      "metadata": {
        "colab": {
          "base_uri": "https://localhost:8080/"
        },
        "id": "T71gzZA_go2h",
        "outputId": "343e5b96-502c-4908-d036-1aa879673012"
      },
      "source": [
        "from google.colab import drive\n",
        "drive.mount('/content/drive')"
      ],
      "execution_count": 1,
      "outputs": [
        {
          "output_type": "stream",
          "text": [
            "Mounted at /content/drive\n"
          ],
          "name": "stdout"
        }
      ]
    },
    {
      "cell_type": "code",
      "metadata": {
        "id": "osjpq9Z4hNhe",
        "colab": {
          "base_uri": "https://localhost:8080/"
        },
        "outputId": "c9333a5c-13a4-407a-910d-6931f53e0333"
      },
      "source": [
        "import pandas as pd\n",
        "\n",
        "import matplotlib.pyplot as plt\n",
        "import numpy as np\n",
        "import pandas as pd\n",
        "import scipy as sp\n",
        "import seaborn as sns\n",
        "import statsmodels.api as sm\n",
        "import statsmodels.tsa.api as smt\n",
        "import warnings\n",
        "from google.colab import drive\n",
        "from sklearn.linear_model import LinearRegression\n",
        "from sklearn.model_selection import train_test_split\n",
        "\n",
        "from statsmodels.stats.outliers_influence import variance_inflation_factor\n",
        "\n",
        "#saving dataset as csv file\n",
        "path='/content/drive/MyDrive/assignments/'\n",
        "#reading csv file\n",
        "dfrm=pd.read_csv(path+'data.csv')\n"
      ],
      "execution_count": 2,
      "outputs": [
        {
          "output_type": "stream",
          "text": [
            "/usr/local/lib/python3.7/dist-packages/statsmodels/tools/_testing.py:19: FutureWarning: pandas.util.testing is deprecated. Use the functions in the public API at pandas.testing instead.\n",
            "  import pandas.util.testing as tm\n"
          ],
          "name": "stderr"
        }
      ]
    },
    {
      "cell_type": "code",
      "metadata": {
        "id": "SarPhFs8pEOH",
        "colab": {
          "base_uri": "https://localhost:8080/",
          "height": 198
        },
        "outputId": "9c8ee82e-0b15-44b2-df02-4b4192b8276a"
      },
      "source": [
        "dfrm.head()\n",
        "#import the data"
      ],
      "execution_count": 3,
      "outputs": [
        {
          "output_type": "execute_result",
          "data": {
            "text/html": [
              "<div>\n",
              "<style scoped>\n",
              "    .dataframe tbody tr th:only-of-type {\n",
              "        vertical-align: middle;\n",
              "    }\n",
              "\n",
              "    .dataframe tbody tr th {\n",
              "        vertical-align: top;\n",
              "    }\n",
              "\n",
              "    .dataframe thead th {\n",
              "        text-align: right;\n",
              "    }\n",
              "</style>\n",
              "<table border=\"1\" class=\"dataframe\">\n",
              "  <thead>\n",
              "    <tr style=\"text-align: right;\">\n",
              "      <th></th>\n",
              "      <th>Feature 1</th>\n",
              "      <th>Feature 2</th>\n",
              "      <th>Feature 3</th>\n",
              "      <th>Target</th>\n",
              "    </tr>\n",
              "  </thead>\n",
              "  <tbody>\n",
              "    <tr>\n",
              "      <th>0</th>\n",
              "      <td>230.1</td>\n",
              "      <td>37.8</td>\n",
              "      <td>69.2</td>\n",
              "      <td>22.1</td>\n",
              "    </tr>\n",
              "    <tr>\n",
              "      <th>1</th>\n",
              "      <td>44.5</td>\n",
              "      <td>39.3</td>\n",
              "      <td>45.1</td>\n",
              "      <td>10.4</td>\n",
              "    </tr>\n",
              "    <tr>\n",
              "      <th>2</th>\n",
              "      <td>17.2</td>\n",
              "      <td>45.9</td>\n",
              "      <td>69.3</td>\n",
              "      <td>9.3</td>\n",
              "    </tr>\n",
              "    <tr>\n",
              "      <th>3</th>\n",
              "      <td>151.5</td>\n",
              "      <td>41.3</td>\n",
              "      <td>58.5</td>\n",
              "      <td>18.5</td>\n",
              "    </tr>\n",
              "    <tr>\n",
              "      <th>4</th>\n",
              "      <td>180.8</td>\n",
              "      <td>10.8</td>\n",
              "      <td>58.4</td>\n",
              "      <td>12.9</td>\n",
              "    </tr>\n",
              "  </tbody>\n",
              "</table>\n",
              "</div>"
            ],
            "text/plain": [
              "   Feature 1  Feature 2  Feature 3  Target\n",
              "0      230.1       37.8       69.2    22.1\n",
              "1       44.5       39.3       45.1    10.4\n",
              "2       17.2       45.9       69.3     9.3\n",
              "3      151.5       41.3       58.5    18.5\n",
              "4      180.8       10.8       58.4    12.9"
            ]
          },
          "metadata": {
            "tags": []
          },
          "execution_count": 3
        }
      ]
    },
    {
      "cell_type": "markdown",
      "metadata": {
        "id": "UleuaRSOyEur"
      },
      "source": [
        "# checking the correlation of feature with each other"
      ]
    },
    {
      "cell_type": "code",
      "metadata": {
        "colab": {
          "base_uri": "https://localhost:8080/",
          "height": 743
        },
        "id": "wB0tseuXNTc6",
        "outputId": "b5130513-770d-404c-df40-b2e576c9cb3c"
      },
      "source": [
        "sns.pairplot(dfrm.iloc[:,:])"
      ],
      "execution_count": 4,
      "outputs": [
        {
          "output_type": "execute_result",
          "data": {
            "text/plain": [
              "<seaborn.axisgrid.PairGrid at 0x7f96c53eec10>"
            ]
          },
          "metadata": {
            "tags": []
          },
          "execution_count": 4
        },
        {
          "output_type": "display_data",
          "data": {
            "image/png": "[encoded data removed]",
            "text/plain": [
              "<Figure size 720x720 with 20 Axes>"
            ]
          },
          "metadata": {
            "tags": [],
            "needs_background": "light"
          }
        }
      ]
    },
    {
      "cell_type": "code",
      "metadata": {
        "colab": {
          "base_uri": "https://localhost:8080/",
          "height": 596
        },
        "id": "kCbVlz5ByOFp",
        "outputId": "81089bb9-254a-4e1f-c9ec-a0baaec9a5ec"
      },
      "source": [
        "\n",
        "corr = dfrm.corr()\n",
        "fig, ax = plt.subplots(figsize = (12,10))\n",
        "sns.heatmap(corr, cmap='RdBu', annot=True, fmt = \".2f\")\n",
        "plt.xticks(range(len(corr.columns)),corr.columns)\n",
        "plt.yticks(range(len(corr.columns)),corr.columns)\n",
        "plt.show()"
      ],
      "execution_count": null,
      "outputs": [
        {
          "output_type": "display_data",
          "data": {
            "image/png": "[encoded data removed]",
            "text/plain": [
              "<Figure size 864x720 with 2 Axes>"
            ]
          },
          "metadata": {
            "tags": [],
            "needs_background": "light"
          }
        }
      ]
    },
    {
      "cell_type": "markdown",
      "metadata": {
        "id": "yUfhGCN4xuBs"
      },
      "source": [
        "# Separating the data"
      ]
    },
    {
      "cell_type": "code",
      "metadata": {
        "id": "D6WDETXKnmwk"
      },
      "source": [
        "target=\"Target\"\n",
        "#x is all indept vars\n",
        "x=dfrm.loc[:, dfrm.columns != target]\n",
        "y=dfrm.loc[:,target]"
      ],
      "execution_count": 6,
      "outputs": []
    },
    {
      "cell_type": "code",
      "metadata": {
        "id": "LleKMT_BiO5l"
      },
      "source": [
        "x=dfrm.loc[:,dfrm.columns!=target]\n",
        "y=dfrm.loc[:,target]\n"
      ],
      "execution_count": 7,
      "outputs": []
    },
    {
      "cell_type": "code",
      "metadata": {
        "id": "YiVrECHhLt7N"
      },
      "source": [
        "xtrain,xtest,ytrian,ytest=train_test_split(x,y,test_size=0.30, random_state=42)                                           "
      ],
      "execution_count": 8,
      "outputs": []
    },
    {
      "cell_type": "code",
      "metadata": {
        "colab": {
          "base_uri": "https://localhost:8080/"
        },
        "id": "6Fz774qpOj5I",
        "outputId": "3a00a515-02b5-4a1b-e165-ffe5de5d36a6"
      },
      "source": [
        "xtrain2=sm.add_constant(xtrain)\n",
        "model = sm.OLS(ytrian,xtrain2)\n",
        "resul=model.fit()\n",
        "resul.params\n",
        "print(resul.summary())"
      ],
      "execution_count": 10,
      "outputs": [
        {
          "output_type": "stream",
          "text": [
            "                            OLS Regression Results                            \n",
            "==============================================================================\n",
            "Dep. Variable:                 Target   R-squared:                       0.906\n",
            "Model:                            OLS   Adj. R-squared:                  0.903\n",
            "Method:                 Least Squares   F-statistic:                     434.5\n",
            "Date:                Tue, 23 Mar 2021   Prob (F-statistic):           1.88e-69\n",
            "Time:                        14:24:21   Log-Likelihood:                -262.21\n",
            "No. Observations:                 140   AIC:                             532.4\n",
            "Df Residuals:                     136   BIC:                             544.2\n",
            "Df Model:                           3                                         \n",
            "Covariance Type:            nonrobust                                         \n",
            "==============================================================================\n",
            "                 coef    std err          t      P>|t|      [0.025      0.975]\n",
            "------------------------------------------------------------------------------\n",
            "const          2.7089      0.374      7.250      0.000       1.970       3.448\n",
            "Feature 1      0.0441      0.002     27.219      0.000       0.041       0.047\n",
            "Feature 2      0.1993      0.010     20.195      0.000       0.180       0.219\n",
            "Feature 3      0.0069      0.007      0.988      0.325      -0.007       0.021\n",
            "==============================================================================\n",
            "Omnibus:                       68.437   Durbin-Watson:                   2.285\n",
            "Prob(Omnibus):                  0.000   Jarque-Bera (JB):              325.342\n",
            "Skew:                          -1.709   Prob(JB):                     2.25e-71\n",
            "Kurtosis:                       9.640   Cond. No.                         500.\n",
            "==============================================================================\n",
            "\n",
            "Warnings:\n",
            "[1] Standard Errors assume that the covariance matrix of the errors is correctly specified.\n"
          ],
          "name": "stdout"
        }
      ]
    },
    {
      "cell_type": "markdown",
      "metadata": {
        "id": "DsGI9nzaGdBv"
      },
      "source": [
        "# What we should understand from the above summay is:"
      ]
    },
    {
      "cell_type": "markdown",
      "metadata": {
        "id": "mZnY4Tb6GoGB"
      },
      "source": [
        "\n",
        "if the model is realy well then we will have a R-squared value which is closer to one.\n",
        "if we add more features for better prediction, then R-squared value will get closer to one.\n",
        "\n",
        "if adj R-squared is less then R-squared then that feature might not be relevent to model.\n",
        "\n",
        "\n",
        "t test and P>|X|\n",
        "\n",
        "In order to undertad whether a feature is relevent to target variable or not t test can help us.it checks every feature with target variable independent of other features.\n",
        "\n",
        "H0:  feature coef value=0\n",
        "H1:  feature coef value =\\=0\n",
        "\n",
        "Higher t value, indicates we may reject the null hypo.\n",
        "lower t value indiactes the feature is having coef of less than 0.\n",
        "lower the P>|t| we reject null hypo.\n"
      ]
    },
    {
      "cell_type": "code",
      "metadata": {
        "id": "RU2y3RGdPUXz",
        "colab": {
          "base_uri": "https://localhost:8080/",
          "height": 198
        },
        "outputId": "9f43de99-d6ac-484e-94c9-612ff12d26f7"
      },
      "source": [
        "xtest=sm.add_constant(xtest)\n",
        "ypredict=resul.predict(xtest)\n",
        "pdata={\n",
        "    \"Target\":ypredict[0:]\n",
        "}\n",
        "predictdf=pd.DataFrame(pdata)\n",
        "predictdf.head()"
      ],
      "execution_count": 11,
      "outputs": [
        {
          "output_type": "execute_result",
          "data": {
            "text/html": [
              "<div>\n",
              "<style scoped>\n",
              "    .dataframe tbody tr th:only-of-type {\n",
              "        vertical-align: middle;\n",
              "    }\n",
              "\n",
              "    .dataframe tbody tr th {\n",
              "        vertical-align: top;\n",
              "    }\n",
              "\n",
              "    .dataframe thead th {\n",
              "        text-align: right;\n",
              "    }\n",
              "</style>\n",
              "<table border=\"1\" class=\"dataframe\">\n",
              "  <thead>\n",
              "    <tr style=\"text-align: right;\">\n",
              "      <th></th>\n",
              "      <th>Target</th>\n",
              "    </tr>\n",
              "  </thead>\n",
              "  <tbody>\n",
              "    <tr>\n",
              "      <th>95</th>\n",
              "      <td>16.565396</td>\n",
              "    </tr>\n",
              "    <tr>\n",
              "      <th>15</th>\n",
              "      <td>21.188228</td>\n",
              "    </tr>\n",
              "    <tr>\n",
              "      <th>30</th>\n",
              "      <td>21.551071</td>\n",
              "    </tr>\n",
              "    <tr>\n",
              "      <th>158</th>\n",
              "      <td>10.889238</td>\n",
              "    </tr>\n",
              "    <tr>\n",
              "      <th>128</th>\n",
              "      <td>22.202320</td>\n",
              "    </tr>\n",
              "  </tbody>\n",
              "</table>\n",
              "</div>"
            ],
            "text/plain": [
              "        Target\n",
              "95   16.565396\n",
              "15   21.188228\n",
              "30   21.551071\n",
              "158  10.889238\n",
              "128  22.202320"
            ]
          },
          "metadata": {
            "tags": []
          },
          "execution_count": 11
        }
      ]
    },
    {
      "cell_type": "code",
      "metadata": {
        "id": "UI63EZ0dP6l0"
      },
      "source": [
        "residualerror=ytest - ypredict\n",
        "#residualerror=y-yhat"
      ],
      "execution_count": 12,
      "outputs": []
    },
    {
      "cell_type": "markdown",
      "metadata": {
        "id": "ajYdtRojH0Nm"
      },
      "source": [
        "# Verifying the Assumptions of Linear Regression"
      ]
    },
    {
      "cell_type": "markdown",
      "metadata": {
        "id": "3htK7iI9_eLu"
      },
      "source": [
        "1.Low or NO Multicolinearity"
      ]
    },
    {
      "cell_type": "code",
      "metadata": {
        "id": "rKwIXge8QFTv",
        "colab": {
          "base_uri": "https://localhost:8080/",
          "height": 78
        },
        "outputId": "1fe9cf75-bd44-418a-fbda-6ca7203036a7"
      },
      "source": [
        "#Lower or No multicolinearity assumtion test using\n",
        "#vif(variance inflation factor)\n",
        "\n",
        "#using vif we can verify this assumption\n",
        "#if vif>10, it means heavy multicoy between that feature and other features\n",
        "#vif<=5, indicates very low relation of that feature wiht others\n",
        "\n",
        "vif=[variance_inflation_factor(xtrain.values,i) for i in range(xtrain.shape[1])]\n",
        "vifdata={\n",
        "    \"VIF value\": vif[0:]\n",
        "}\n",
        "pd.DataFrame(vifdata,index=xtrain.columns).T"
      ],
      "execution_count": 20,
      "outputs": [
        {
          "output_type": "execute_result",
          "data": {
            "text/html": [
              "<div>\n",
              "<style scoped>\n",
              "    .dataframe tbody tr th:only-of-type {\n",
              "        vertical-align: middle;\n",
              "    }\n",
              "\n",
              "    .dataframe tbody tr th {\n",
              "        vertical-align: top;\n",
              "    }\n",
              "\n",
              "    .dataframe thead th {\n",
              "        text-align: right;\n",
              "    }\n",
              "</style>\n",
              "<table border=\"1\" class=\"dataframe\">\n",
              "  <thead>\n",
              "    <tr style=\"text-align: right;\">\n",
              "      <th></th>\n",
              "      <th>Feature 1</th>\n",
              "      <th>Feature 2</th>\n",
              "      <th>Feature 3</th>\n",
              "    </tr>\n",
              "  </thead>\n",
              "  <tbody>\n",
              "    <tr>\n",
              "      <th>VIF value</th>\n",
              "      <td>2.697679</td>\n",
              "      <td>3.473818</td>\n",
              "      <td>3.162643</td>\n",
              "    </tr>\n",
              "  </tbody>\n",
              "</table>\n",
              "</div>"
            ],
            "text/plain": [
              "           Feature 1  Feature 2  Feature 3\n",
              "VIF value   2.697679   3.473818   3.162643"
            ]
          },
          "metadata": {
            "tags": []
          },
          "execution_count": 20
        }
      ]
    },
    {
      "cell_type": "markdown",
      "metadata": {
        "id": "6Z2PiwsmfC3f"
      },
      "source": [
        "from the VIF values we can understadnd that the independent variables have very low colinearity with each other, it means this assumption for the linear regression is true."
      ]
    },
    {
      "cell_type": "markdown",
      "metadata": {
        "id": "i7tWAtJxB15u"
      },
      "source": [
        "2.Normality of residual"
      ]
    },
    {
      "cell_type": "code",
      "metadata": {
        "id": "UBa6mhmLxzUk",
        "colab": {
          "base_uri": "https://localhost:8080/",
          "height": 337
        },
        "outputId": "ee11b25f-bd8b-4b29-e787-ece62e0ab39c"
      },
      "source": [
        " sns.distplot(residualerror) "
      ],
      "execution_count": 21,
      "outputs": [
        {
          "output_type": "stream",
          "text": [
            "/usr/local/lib/python3.7/dist-packages/seaborn/distributions.py:2557: FutureWarning: `distplot` is a deprecated function and will be removed in a future version. Please adapt your code to use either `displot` (a figure-level function with similar flexibility) or `histplot` (an axes-level function for histograms).\n",
            "  warnings.warn(msg, FutureWarning)\n"
          ],
          "name": "stderr"
        },
        {
          "output_type": "execute_result",
          "data": {
            "text/plain": [
              "<matplotlib.axes._subplots.AxesSubplot at 0x7f96ba3bb1d0>"
            ]
          },
          "metadata": {
            "tags": []
          },
          "execution_count": 21
        },
        {
          "output_type": "display_data",
          "data": {
            "image/png": "[encoded data removed]",
            "text/plain": [
              "<Figure size 432x288 with 1 Axes>"
            ]
          },
          "metadata": {
            "tags": [],
            "needs_background": "light"
          }
        }
      ]
    },
    {
      "cell_type": "markdown",
      "metadata": {
        "id": "jM8ZdheeHVp6"
      },
      "source": [
        ""
      ]
    },
    {
      "cell_type": "code",
      "metadata": {
        "colab": {
          "base_uri": "https://localhost:8080/"
        },
        "id": "KcX-PuTvHPYR",
        "outputId": "75f229ea-1b22-48de-a471-d00d9cc5351f"
      },
      "source": [
        "np.mean(residualerror)"
      ],
      "execution_count": 22,
      "outputs": [
        {
          "output_type": "execute_result",
          "data": {
            "text/plain": [
              "-0.03848895253439794"
            ]
          },
          "metadata": {
            "tags": []
          },
          "execution_count": 22
        }
      ]
    },
    {
      "cell_type": "markdown",
      "metadata": {
        "id": "9ThscQZhIKy8"
      },
      "source": [
        "As we can see from the graph and the mean value, overall it is normally distribued which holds the assumption of residual error normally distributed as true."
      ]
    },
    {
      "cell_type": "code",
      "metadata": {
        "id": "GOrqctaSIDo_"
      },
      "source": [
        ""
      ],
      "execution_count": 22,
      "outputs": []
    },
    {
      "cell_type": "markdown",
      "metadata": {
        "id": "guNXx86zIwsX"
      },
      "source": [
        "3.Homescedasticity"
      ]
    },
    {
      "cell_type": "code",
      "metadata": {
        "colab": {
          "base_uri": "https://localhost:8080/",
          "height": 184
        },
        "id": "yEiuzMgv-KPn",
        "outputId": "abbdd6b9-9b61-4119-dc45-b7b700bf2a06"
      },
      "source": [
        "#it is all about constant variance\n",
        "#predicitons on x-axis\n",
        "#residuals on the y-axis\n",
        "\n",
        "fig, ax=plt.subplots(figsize=(6,2.5))\n",
        "_=ax.scatter(ypredict,residualerror) "
      ],
      "execution_count": 23,
      "outputs": [
        {
          "output_type": "display_data",
          "data": {
            "image/png": "[encoded data removed]",
            "text/plain": [
              "<Figure size 432x180 with 1 Axes>"
            ]
          },
          "metadata": {
            "tags": [],
            "needs_background": "light"
          }
        }
      ]
    },
    {
      "cell_type": "markdown",
      "metadata": {
        "id": "0aWZgl70ADq9"
      },
      "source": [
        "the variance is almost constant at the extend that holds the assumption true"
      ]
    },
    {
      "cell_type": "markdown",
      "metadata": {
        "id": "637G_QvrAXuJ"
      },
      "source": [
        ""
      ]
    },
    {
      "cell_type": "markdown",
      "metadata": {
        "id": "oxeWjJ1fAYWg"
      },
      "source": [
        ""
      ]
    },
    {
      "cell_type": "code",
      "metadata": {
        "id": "6bHxsYba_XKZ"
      },
      "source": [
        ""
      ],
      "execution_count": 17,
      "outputs": []
    },
    {
      "cell_type": "markdown",
      "metadata": {
        "id": "zvXptJgBAZt9"
      },
      "source": [
        "4.No autocorrelation of residuals"
      ]
    },
    {
      "cell_type": "code",
      "metadata": {
        "colab": {
          "base_uri": "https://localhost:8080/",
          "height": 281
        },
        "id": "8SZs_f85AkEn",
        "outputId": "047c9b86-5204-4f56-f9b9-2ddae29edb8f"
      },
      "source": [
        "#it refers to the degree of correlation between individual variable\n",
        "#with others\n",
        "acfunc=smt.graphics.plot_acf(residualerror, lags=40,alpha=0.05)"
      ],
      "execution_count": 18,
      "outputs": [
        {
          "output_type": "display_data",
          "data": {
            "image/png": "[encoded data removed]",
            "text/plain": [
              "<Figure size 432x288 with 1 Axes>"
            ]
          },
          "metadata": {
            "tags": [],
            "needs_background": "light"
          }
        }
      ]
    },
    {
      "cell_type": "markdown",
      "metadata": {
        "id": "Jp8yMEakDUcf"
      },
      "source": [
        "as the graph of acf shows,\n",
        "non of the lag or datapoint is crossing from the blue border in order to be autucorrelated.\n"
      ]
    },
    {
      "cell_type": "code",
      "metadata": {
        "id": "rM2pEA5m9_ag"
      },
      "source": [
        ""
      ],
      "execution_count": 18,
      "outputs": []
    },
    {
      "cell_type": "markdown",
      "metadata": {
        "id": "__MH-8Yg-Aie"
      },
      "source": [
        "#code#5 "
      ]
    },
    {
      "cell_type": "markdown",
      "metadata": {
        "id": "WXEQMTg7-pp5"
      },
      "source": [
        ""
      ]
    },
    {
      "cell_type": "markdown",
      "metadata": {
        "id": "WXnVMM_Q-Sx0"
      },
      "source": [
        ""
      ]
    },
    {
      "cell_type": "code",
      "metadata": {
        "colab": {
          "base_uri": "https://localhost:8080/",
          "height": 417
        },
        "id": "hqPvVk5m-Aik",
        "outputId": "f6dbc84b-a720-411b-b2f2-809ceb936172"
      },
      "source": [
        "import pandas as pd\n",
        "\n",
        "import matplotlib.pyplot as plt\n",
        "import numpy as np\n",
        "import pandas as pd\n",
        "import scipy as sp\n",
        "import seaborn as sns\n",
        "import statsmodels.api as sm\n",
        "import statsmodels.tsa.api as smt\n",
        "import warnings\n",
        "from google.colab import drive\n",
        "from sklearn.linear_model import LinearRegression\n",
        "from sklearn.model_selection import train_test_split\n",
        "\n",
        "from statsmodels.stats.outliers_influence import variance_inflation_factor\n",
        "from word2number import w2n\n",
        "\n",
        "\n",
        "#saving dataset as csv file\n",
        "path='/content/drive/MyDrive/assignments/'\n",
        "#reading csv file\n",
        "dfrm2=pd.read_csv(path+'hiring.csv')\n",
        "\n",
        "dfrm2.head()"
      ],
      "execution_count": null,
      "outputs": [
        {
          "output_type": "stream",
          "text": [
            "/usr/local/lib/python3.7/dist-packages/statsmodels/tools/_testing.py:19: FutureWarning: pandas.util.testing is deprecated. Use the functions in the public API at pandas.testing instead.\n",
            "  import pandas.util.testing as tm\n"
          ],
          "name": "stderr"
        },
        {
          "output_type": "error",
          "ename": "ModuleNotFoundError",
          "evalue": "ignored",
          "traceback": [
            "\u001b[0;31m---------------------------------------------------------------------------\u001b[0m",
            "\u001b[0;31mModuleNotFoundError\u001b[0m                       Traceback (most recent call last)",
            "\u001b[0;32m<ipython-input-1-ad60bf78e6f4>\u001b[0m in \u001b[0;36m<module>\u001b[0;34m()\u001b[0m\n\u001b[1;32m     14\u001b[0m \u001b[0;34m\u001b[0m\u001b[0m\n\u001b[1;32m     15\u001b[0m \u001b[0;32mfrom\u001b[0m \u001b[0mstatsmodels\u001b[0m\u001b[0;34m.\u001b[0m\u001b[0mstats\u001b[0m\u001b[0;34m.\u001b[0m\u001b[0moutliers_influence\u001b[0m \u001b[0;32mimport\u001b[0m \u001b[0mvariance_inflation_factor\u001b[0m\u001b[0;34m\u001b[0m\u001b[0;34m\u001b[0m\u001b[0m\n\u001b[0;32m---> 16\u001b[0;31m \u001b[0;32mfrom\u001b[0m \u001b[0mword2number\u001b[0m \u001b[0;32mimport\u001b[0m \u001b[0mw2n\u001b[0m\u001b[0;34m\u001b[0m\u001b[0;34m\u001b[0m\u001b[0m\n\u001b[0m\u001b[1;32m     17\u001b[0m \u001b[0;34m\u001b[0m\u001b[0m\n\u001b[1;32m     18\u001b[0m \u001b[0;34m\u001b[0m\u001b[0m\n",
            "\u001b[0;31mModuleNotFoundError\u001b[0m: No module named 'word2number'",
            "",
            "\u001b[0;31m---------------------------------------------------------------------------\u001b[0;32m\nNOTE: If your import is failing due to a missing package, you can\nmanually install dependencies using either !pip or !apt.\n\nTo view examples of installing some common dependencies, click the\n\"Open Examples\" button below.\n\u001b[0;31m---------------------------------------------------------------------------\u001b[0m\n"
          ]
        }
      ]
    },
    {
      "cell_type": "code",
      "metadata": {
        "id": "J2m4aM3f5mX8"
      },
      "source": [
        ""
      ],
      "execution_count": null,
      "outputs": []
    },
    {
      "cell_type": "code",
      "metadata": {
        "colab": {
          "base_uri": "https://localhost:8080/",
          "height": 297
        },
        "id": "tvucnQqB-Ain",
        "outputId": "f8f83b18-bfee-4a3a-c286-56aa7ce14b81"
      },
      "source": [
        "#dealing with null values\n",
        "dfrm2.experience=dfrm2.experience.fillna(\"zero\")\n",
        "dfrm2[\"test_score(out of 10)\"]=dfrm2[\"test_score(out of 10)\"].fillna(dfrm2[\"test_score(out of 10)\"].median())\n",
        "dfrm2"
      ],
      "execution_count": null,
      "outputs": [
        {
          "output_type": "execute_result",
          "data": {
            "text/html": [
              "<div>\n",
              "<style scoped>\n",
              "    .dataframe tbody tr th:only-of-type {\n",
              "        vertical-align: middle;\n",
              "    }\n",
              "\n",
              "    .dataframe tbody tr th {\n",
              "        vertical-align: top;\n",
              "    }\n",
              "\n",
              "    .dataframe thead th {\n",
              "        text-align: right;\n",
              "    }\n",
              "</style>\n",
              "<table border=\"1\" class=\"dataframe\">\n",
              "  <thead>\n",
              "    <tr style=\"text-align: right;\">\n",
              "      <th></th>\n",
              "      <th>experience</th>\n",
              "      <th>test_score(out of 10)</th>\n",
              "      <th>interview_score(out of 10)</th>\n",
              "      <th>salary($)</th>\n",
              "    </tr>\n",
              "  </thead>\n",
              "  <tbody>\n",
              "    <tr>\n",
              "      <th>0</th>\n",
              "      <td>0</td>\n",
              "      <td>8.0</td>\n",
              "      <td>9</td>\n",
              "      <td>50000</td>\n",
              "    </tr>\n",
              "    <tr>\n",
              "      <th>1</th>\n",
              "      <td>0</td>\n",
              "      <td>8.0</td>\n",
              "      <td>6</td>\n",
              "      <td>45000</td>\n",
              "    </tr>\n",
              "    <tr>\n",
              "      <th>2</th>\n",
              "      <td>5</td>\n",
              "      <td>6.0</td>\n",
              "      <td>7</td>\n",
              "      <td>60000</td>\n",
              "    </tr>\n",
              "    <tr>\n",
              "      <th>3</th>\n",
              "      <td>2</td>\n",
              "      <td>10.0</td>\n",
              "      <td>10</td>\n",
              "      <td>65000</td>\n",
              "    </tr>\n",
              "    <tr>\n",
              "      <th>4</th>\n",
              "      <td>7</td>\n",
              "      <td>9.0</td>\n",
              "      <td>6</td>\n",
              "      <td>70000</td>\n",
              "    </tr>\n",
              "    <tr>\n",
              "      <th>5</th>\n",
              "      <td>3</td>\n",
              "      <td>7.0</td>\n",
              "      <td>10</td>\n",
              "      <td>62000</td>\n",
              "    </tr>\n",
              "    <tr>\n",
              "      <th>6</th>\n",
              "      <td>10</td>\n",
              "      <td>8.0</td>\n",
              "      <td>7</td>\n",
              "      <td>72000</td>\n",
              "    </tr>\n",
              "    <tr>\n",
              "      <th>7</th>\n",
              "      <td>11</td>\n",
              "      <td>7.0</td>\n",
              "      <td>8</td>\n",
              "      <td>80000</td>\n",
              "    </tr>\n",
              "  </tbody>\n",
              "</table>\n",
              "</div>"
            ],
            "text/plain": [
              "   experience  test_score(out of 10)  interview_score(out of 10)  salary($)\n",
              "0           0                    8.0                           9      50000\n",
              "1           0                    8.0                           6      45000\n",
              "2           5                    6.0                           7      60000\n",
              "3           2                   10.0                          10      65000\n",
              "4           7                    9.0                           6      70000\n",
              "5           3                    7.0                          10      62000\n",
              "6          10                    8.0                           7      72000\n",
              "7          11                    7.0                           8      80000"
            ]
          },
          "metadata": {
            "tags": []
          },
          "execution_count": 206
        }
      ]
    },
    {
      "cell_type": "code",
      "metadata": {
        "id": "-lbaL9fX5WAh"
      },
      "source": [
        ""
      ],
      "execution_count": null,
      "outputs": []
    },
    {
      "cell_type": "markdown",
      "metadata": {
        "id": "xqbXIlFH-Aip"
      },
      "source": [
        "# checking the correlation of feature with each other"
      ]
    },
    {
      "cell_type": "code",
      "metadata": {
        "colab": {
          "base_uri": "https://localhost:8080/",
          "height": 743
        },
        "id": "wlGSpw3X-Aiq",
        "outputId": "8585abc8-4acd-40be-a23e-fe3b12b6e5bc"
      },
      "source": [
        "sns.pairplot(dfrm2.iloc[:,:])"
      ],
      "execution_count": null,
      "outputs": [
        {
          "output_type": "execute_result",
          "data": {
            "text/plain": [
              "<seaborn.axisgrid.PairGrid at 0x7fb87de1a7d0>"
            ]
          },
          "metadata": {
            "tags": []
          },
          "execution_count": 207
        },
        {
          "output_type": "display_data",
          "data": {
            "image/png": "[encoded data removed]",
            "text/plain": [
              "<Figure size 720x720 with 20 Axes>"
            ]
          },
          "metadata": {
            "tags": [],
            "needs_background": "light"
          }
        }
      ]
    },
    {
      "cell_type": "code",
      "metadata": {
        "colab": {
          "base_uri": "https://localhost:8080/",
          "height": 596
        },
        "id": "Wmv4wUD_-Ait",
        "outputId": "1cabe9fd-572f-43b8-951a-592365182726"
      },
      "source": [
        "corr = dfrm2.corr()\n",
        "fig, ax = plt.subplots(figsize = (12,10))\n",
        "sns.heatmap(corr, cmap='RdBu', annot=True, fmt = \".2f\")\n",
        "plt.xticks(range(len(corr.columns)),corr.columns)\n",
        "plt.yticks(range(len(corr.columns)),corr.columns)\n",
        "plt.show()"
      ],
      "execution_count": null,
      "outputs": [
        {
          "output_type": "display_data",
          "data": {
            "image/png": "[encoded data removed]",
            "text/plain": [
              "<Figure size 864x720 with 2 Axes>"
            ]
          },
          "metadata": {
            "tags": [],
            "needs_background": "light"
          }
        }
      ]
    },
    {
      "cell_type": "markdown",
      "metadata": {
        "id": "zJDON9Le-Aiv"
      },
      "source": [
        "# Separating the data"
      ]
    },
    {
      "cell_type": "code",
      "metadata": {
        "id": "bI7-smM5-Aiw"
      },
      "source": [
        "target2=\"salary($)\"\n",
        "#x is all indept vars\n",
        "x2=dfrm2.loc[:,dfrm2.columns != target]\n",
        "y2=dfrm2.loc[:,target2]"
      ],
      "execution_count": null,
      "outputs": []
    },
    {
      "cell_type": "code",
      "metadata": {
        "id": "YcV-ac56-Aiw"
      },
      "source": [
        "x2=dfrm2.loc[:,dfrm2.columns!=target2]\n",
        "y2=dfrm2.loc[:,target2]"
      ],
      "execution_count": null,
      "outputs": []
    },
    {
      "cell_type": "code",
      "metadata": {
        "id": "PPWtZa-x-Aix"
      },
      "source": [
        "xtrain2,xtest2,ytrian2,ytest2=train_test_split(x2,y2,test_size=0.50, random_state=20)                                           "
      ],
      "execution_count": null,
      "outputs": []
    },
    {
      "cell_type": "code",
      "metadata": {
        "colab": {
          "base_uri": "https://localhost:8080/"
        },
        "id": "zde3h3oA-Aix",
        "outputId": "f70d6022-6cff-46a9-ede6-5d20cc066f24"
      },
      "source": [
        "xtrain22=sm.add_constant(xtrain2)\n",
        "model = sm.OLS(ytrian2,xtrain22)\n",
        "resul=model.fit()\n",
        "resul.params\n",
        "print(resul.summary())"
      ],
      "execution_count": null,
      "outputs": [
        {
          "output_type": "stream",
          "text": [
            "                            OLS Regression Results                            \n",
            "==============================================================================\n",
            "Dep. Variable:              salary($)   R-squared:                       1.000\n",
            "Model:                            OLS   Adj. R-squared:                    nan\n",
            "Method:                 Least Squares   F-statistic:                     0.000\n",
            "Date:                Sat, 13 Mar 2021   Prob (F-statistic):                nan\n",
            "Time:                        09:58:08   Log-Likelihood:                 87.950\n",
            "No. Observations:                   4   AIC:                            -167.9\n",
            "Df Residuals:                       0   BIC:                            -170.4\n",
            "Df Model:                           3                                         \n",
            "Covariance Type:            nonrobust                                         \n",
            "==============================================================================================\n",
            "                                 coef    std err          t      P>|t|      [0.025      0.975]\n",
            "----------------------------------------------------------------------------------------------\n",
            "const                       3.869e+04        inf          0        nan         nan         nan\n",
            "experience                  1457.6271        inf          0        nan         nan         nan\n",
            "test_score(out of 10)       2355.9322        inf          0        nan         nan         nan\n",
            "interview_score(out of 10)   -16.9492        inf         -0        nan         nan         nan\n",
            "==============================================================================\n",
            "Omnibus:                          nan   Durbin-Watson:                   0.048\n",
            "Prob(Omnibus):                    nan   Jarque-Bera (JB):                0.732\n",
            "Skew:                           0.958   Prob(JB):                        0.693\n",
            "Kurtosis:                       2.149   Cond. No.                         132.\n",
            "==============================================================================\n",
            "\n",
            "Warnings:\n",
            "[1] Standard Errors assume that the covariance matrix of the errors is correctly specified.\n"
          ],
          "name": "stdout"
        },
        {
          "output_type": "stream",
          "text": [
            "/usr/local/lib/python3.7/dist-packages/statsmodels/stats/stattools.py:71: ValueWarning: omni_normtest is not valid with less than 8 observations; 4 samples were given.\n",
            "  \"samples were given.\" % int(n), ValueWarning)\n",
            "/usr/local/lib/python3.7/dist-packages/statsmodels/regression/linear_model.py:1648: RuntimeWarning: divide by zero encountered in true_divide\n",
            "  return 1 - (np.divide(self.nobs - self.k_constant, self.df_resid)\n",
            "/usr/local/lib/python3.7/dist-packages/statsmodels/regression/linear_model.py:1649: RuntimeWarning: invalid value encountered in double_scalars\n",
            "  * (1 - self.rsquared))\n",
            "/usr/local/lib/python3.7/dist-packages/statsmodels/regression/linear_model.py:1665: RuntimeWarning: divide by zero encountered in double_scalars\n",
            "  return self.ssr/self.df_resid\n",
            "/usr/local/lib/python3.7/dist-packages/statsmodels/regression/linear_model.py:1578: RuntimeWarning: divide by zero encountered in double_scalars\n",
            "  return np.dot(wresid, wresid) / self.df_resid\n"
          ],
          "name": "stderr"
        }
      ]
    },
    {
      "cell_type": "markdown",
      "metadata": {
        "id": "_t6m-wYe-Aiy"
      },
      "source": [
        "# What we should understand from the above summay is:"
      ]
    },
    {
      "cell_type": "markdown",
      "metadata": {
        "id": "r1r8IwFQ-Aiy"
      },
      "source": [
        "\n",
        "if the model is realy well then we will have a R-squared value which is closer to one.\n",
        "if we add more features for better prediction, then R-squared value will get closer to one.\n",
        "\n",
        "if adj R-squared is less then R-squared then that feature might not be relevent to model.\n",
        "\n",
        "\n",
        "t test and P>|X|\n",
        "\n",
        "In order to undertad whether a feature is relevent to target variable or not t test can help us.it checks every feature with target variable independent of other features.\n",
        "\n",
        "H0:  feature coef value=0\n",
        "H1:  feature coef value =\\=0\n",
        "\n",
        "Higher t value, indicates we may reject the null hypo.\n",
        "lower t value indiactes the feature is having coef of less than 0.\n",
        "lower the P>|t| we reject null hypo.\n"
      ]
    },
    {
      "cell_type": "code",
      "metadata": {
        "colab": {
          "base_uri": "https://localhost:8080/",
          "height": 173
        },
        "id": "3GHiKjH9-Aiz",
        "outputId": "b35095f5-9279-4cf7-d937-6de4c22a628c"
      },
      "source": [
        "xtest2=sm.add_constant(xtest2)\n",
        "ypredict2=resul.predict(xtest2)\n",
        "pdata={\n",
        "    \"Salary($)\":ypredict2[0:]\n",
        "}\n",
        "predictdf=pd.DataFrame(pdata)\n",
        "predictdf"
      ],
      "execution_count": null,
      "outputs": [
        {
          "output_type": "execute_result",
          "data": {
            "text/html": [
              "<div>\n",
              "<style scoped>\n",
              "    .dataframe tbody tr th:only-of-type {\n",
              "        vertical-align: middle;\n",
              "    }\n",
              "\n",
              "    .dataframe tbody tr th {\n",
              "        vertical-align: top;\n",
              "    }\n",
              "\n",
              "    .dataframe thead th {\n",
              "        text-align: right;\n",
              "    }\n",
              "</style>\n",
              "<table border=\"1\" class=\"dataframe\">\n",
              "  <thead>\n",
              "    <tr style=\"text-align: right;\">\n",
              "      <th></th>\n",
              "      <th>Salary($)</th>\n",
              "    </tr>\n",
              "  </thead>\n",
              "  <tbody>\n",
              "    <tr>\n",
              "      <th>5</th>\n",
              "      <td>59389.830508</td>\n",
              "    </tr>\n",
              "    <tr>\n",
              "      <th>7</th>\n",
              "      <td>71084.745763</td>\n",
              "    </tr>\n",
              "    <tr>\n",
              "      <th>0</th>\n",
              "      <td>57389.830508</td>\n",
              "    </tr>\n",
              "    <tr>\n",
              "      <th>1</th>\n",
              "      <td>57440.677966</td>\n",
              "    </tr>\n",
              "  </tbody>\n",
              "</table>\n",
              "</div>"
            ],
            "text/plain": [
              "      Salary($)\n",
              "5  59389.830508\n",
              "7  71084.745763\n",
              "0  57389.830508\n",
              "1  57440.677966"
            ]
          },
          "metadata": {
            "tags": []
          },
          "execution_count": 218
        }
      ]
    },
    {
      "cell_type": "code",
      "metadata": {
        "colab": {
          "base_uri": "https://localhost:8080/"
        },
        "id": "HUnnQwhI-Ai0",
        "outputId": "4e1d0802-5492-44ac-aeab-b546ff442e86"
      },
      "source": [
        "residualerror2=ytest - ypredict\n",
        "#residualerror=y-yhat\n",
        "residualerror2.head()"
      ],
      "execution_count": null,
      "outputs": [
        {
          "output_type": "execute_result",
          "data": {
            "text/plain": [
              "95     0.334604\n",
              "15     1.211772\n",
              "30    -0.151071\n",
              "158   -3.589238\n",
              "128    2.497680\n",
              "dtype: float64"
            ]
          },
          "metadata": {
            "tags": []
          },
          "execution_count": 226
        }
      ]
    },
    {
      "cell_type": "markdown",
      "metadata": {
        "id": "ZWC5rzfY-Ai0"
      },
      "source": [
        "# Verifying the Assumptions of Linear Regression"
      ]
    },
    {
      "cell_type": "markdown",
      "metadata": {
        "id": "B_HlKy8o-Ai1"
      },
      "source": [
        "1.Low or NO Multicolinearity"
      ]
    },
    {
      "cell_type": "code",
      "metadata": {
        "id": "rXdc1V9R-Ai1"
      },
      "source": [
        "#Lower or No multicolinearity assumtion test using\n",
        "#vif(variance inflation factor)\n",
        "\n",
        "#using vif we can verify this assumption\n",
        "#if vif>10, it means heavy multicoy between that feature and other features\n",
        "#vif<=5, indicates very low relation of that feature wiht others\n",
        "\n",
        "vif=[variance_inflation_factor(xtrain.values,i) for i in range(xtrain.shape[1])]\n"
      ],
      "execution_count": null,
      "outputs": []
    },
    {
      "cell_type": "code",
      "metadata": {
        "colab": {
          "base_uri": "https://localhost:8080/",
          "height": 80
        },
        "id": "Es-e8wsQ-Ai1",
        "outputId": "015b5ac3-00fd-4569-9529-b89098ebf746"
      },
      "source": [
        "vifdata={\n",
        "    \"VIF value\": vif[0:]\n",
        "}\n",
        "pd.DataFrame(vifdata,index=xtrain2.columns).T"
      ],
      "execution_count": null,
      "outputs": [
        {
          "output_type": "execute_result",
          "data": {
            "text/html": [
              "<div>\n",
              "<style scoped>\n",
              "    .dataframe tbody tr th:only-of-type {\n",
              "        vertical-align: middle;\n",
              "    }\n",
              "\n",
              "    .dataframe tbody tr th {\n",
              "        vertical-align: top;\n",
              "    }\n",
              "\n",
              "    .dataframe thead th {\n",
              "        text-align: right;\n",
              "    }\n",
              "</style>\n",
              "<table border=\"1\" class=\"dataframe\">\n",
              "  <thead>\n",
              "    <tr style=\"text-align: right;\">\n",
              "      <th></th>\n",
              "      <th>experience</th>\n",
              "      <th>test_score(out of 10)</th>\n",
              "      <th>interview_score(out of 10)</th>\n",
              "    </tr>\n",
              "  </thead>\n",
              "  <tbody>\n",
              "    <tr>\n",
              "      <th>VIF value</th>\n",
              "      <td>2.697679</td>\n",
              "      <td>3.473818</td>\n",
              "      <td>3.162643</td>\n",
              "    </tr>\n",
              "  </tbody>\n",
              "</table>\n",
              "</div>"
            ],
            "text/plain": [
              "           experience  test_score(out of 10)  interview_score(out of 10)\n",
              "VIF value    2.697679               3.473818                    3.162643"
            ]
          },
          "metadata": {
            "tags": []
          },
          "execution_count": 233
        }
      ]
    },
    {
      "cell_type": "markdown",
      "metadata": {
        "id": "DqLKTUeP-Ai2"
      },
      "source": [
        "2.Normality of residual"
      ]
    },
    {
      "cell_type": "code",
      "metadata": {
        "colab": {
          "base_uri": "https://localhost:8080/",
          "height": 336
        },
        "id": "4bTRqHAA-Ai2",
        "outputId": "4a2f3e0f-0c48-4fc8-fe29-fbe0aa035085"
      },
      "source": [
        " sns.distplot(residualerror) "
      ],
      "execution_count": null,
      "outputs": [
        {
          "output_type": "stream",
          "text": [
            "/usr/local/lib/python3.7/dist-packages/seaborn/distributions.py:2557: FutureWarning: `distplot` is a deprecated function and will be removed in a future version. Please adapt your code to use either `displot` (a figure-level function with similar flexibility) or `histplot` (an axes-level function for histograms).\n",
            "  warnings.warn(msg, FutureWarning)\n"
          ],
          "name": "stderr"
        },
        {
          "output_type": "execute_result",
          "data": {
            "text/plain": [
              "<matplotlib.axes._subplots.AxesSubplot at 0x7fb87d222a90>"
            ]
          },
          "metadata": {
            "tags": []
          },
          "execution_count": 234
        },
        {
          "output_type": "display_data",
          "data": {
            "image/png": "[encoded data removed]",
            "text/plain": [
              "<Figure size 432x288 with 1 Axes>"
            ]
          },
          "metadata": {
            "tags": [],
            "needs_background": "light"
          }
        }
      ]
    },
    {
      "cell_type": "code",
      "metadata": {
        "colab": {
          "base_uri": "https://localhost:8080/"
        },
        "id": "HaO9LiuX-Ai3",
        "outputId": "bebfdd2e-1844-4e1f-ba0e-e18ebac154ab"
      },
      "source": [
        "np.mean(residualerror)"
      ],
      "execution_count": null,
      "outputs": [
        {
          "output_type": "execute_result",
          "data": {
            "text/plain": [
              "-0.03848895253439794"
            ]
          },
          "metadata": {
            "tags": []
          },
          "execution_count": 236
        }
      ]
    }
  ]
}